{
 "cells": [
  {
   "cell_type": "markdown",
   "metadata": {},
   "source": [
    "# Positional and Keyword Arguments"
   ]
  },
  {
   "cell_type": "code",
   "execution_count": 2,
   "metadata": {},
   "outputs": [],
   "source": [
    "def my_name(first_name,last_name):\n",
    "    print(f\"My name is {first_name} {last_name}.\")"
   ]
  },
  {
   "cell_type": "code",
   "execution_count": 3,
   "metadata": {},
   "outputs": [
    {
     "name": "stdout",
     "output_type": "stream",
     "text": [
      "My name is defne acer.\n"
     ]
    }
   ],
   "source": [
    "my_name(\"defne\",\"acer\")"
   ]
  },
  {
   "cell_type": "code",
   "execution_count": 4,
   "metadata": {},
   "outputs": [
    {
     "name": "stdout",
     "output_type": "stream",
     "text": [
      "My name is acer defne.\n"
     ]
    }
   ],
   "source": [
    "my_name(\"acer\",\"defne\")"
   ]
  },
  {
   "cell_type": "code",
   "execution_count": 5,
   "metadata": {},
   "outputs": [
    {
     "name": "stdout",
     "output_type": "stream",
     "text": [
      "My name is defne acer.\n"
     ]
    }
   ],
   "source": [
    "my_name(last_name = \"acer\",first_name = \"defne\")"
   ]
  },
  {
   "cell_type": "code",
   "execution_count": 6,
   "metadata": {},
   "outputs": [
    {
     "ename": "TypeError",
     "evalue": "my_name() missing 1 required positional argument: 'last_name'",
     "output_type": "error",
     "traceback": [
      "\u001b[1;31m---------------------------------------------------------------------------\u001b[0m",
      "\u001b[1;31mTypeError\u001b[0m                                 Traceback (most recent call last)",
      "\u001b[1;32mc:\\Users\\Defne\\OneDrive\\Masaüstü\\B223-225\\session_18_16_10_23.ipynb Cell 6\u001b[0m line \u001b[0;36m1\n\u001b[1;32m----> <a href='vscode-notebook-cell:/c%3A/Users/Defne/OneDrive/Masa%C3%BCst%C3%BC/B223-225/session_18_16_10_23.ipynb#W5sZmlsZQ%3D%3D?line=0'>1</a>\u001b[0m my_name(\u001b[39m\"\u001b[39;49m\u001b[39mdefne\u001b[39;49m\u001b[39m\"\u001b[39;49m)\n",
      "\u001b[1;31mTypeError\u001b[0m: my_name() missing 1 required positional argument: 'last_name'"
     ]
    }
   ],
   "source": [
    "my_name(\"defne\")"
   ]
  },
  {
   "cell_type": "code",
   "execution_count": 7,
   "metadata": {},
   "outputs": [],
   "source": [
    "def your_name(first_name,last_name =\"demir\"): #default deger atamasi,ilk degere default atamasi yapılmaz.\n",
    "    print(f\"My name is {first_name} {last_name}.\")\n"
   ]
  },
  {
   "cell_type": "code",
   "execution_count": 8,
   "metadata": {},
   "outputs": [
    {
     "name": "stdout",
     "output_type": "stream",
     "text": [
      "My name is defne acer.\n"
     ]
    }
   ],
   "source": [
    "your_name(\"defne\",\"acer\")"
   ]
  },
  {
   "cell_type": "code",
   "execution_count": 9,
   "metadata": {},
   "outputs": [
    {
     "name": "stdout",
     "output_type": "stream",
     "text": [
      "My name is defne demir.\n"
     ]
    }
   ],
   "source": [
    "your_name(\"defne\")"
   ]
  },
  {
   "cell_type": "code",
   "execution_count": 11,
   "metadata": {},
   "outputs": [
    {
     "ename": "SyntaxError",
     "evalue": "non-default argument follows default argument (383072725.py, line 1)",
     "output_type": "error",
     "traceback": [
      "\u001b[1;36m  Cell \u001b[1;32mIn[11], line 1\u001b[1;36m\u001b[0m\n\u001b[1;33m    def your_name(first_name,second_name = \"ali\", last_name):\u001b[0m\n\u001b[1;37m                                                  ^\u001b[0m\n\u001b[1;31mSyntaxError\u001b[0m\u001b[1;31m:\u001b[0m non-default argument follows default argument\n"
     ]
    }
   ],
   "source": [
    "def your_name(first_name,second_name = \"ali\", last_name):\n",
    "    print(f\"My name is {first_name} {second_name} {last_name}.\")\n"
   ]
  },
  {
   "cell_type": "code",
   "execution_count": 15,
   "metadata": {},
   "outputs": [],
   "source": [
    "def your_name2(first_name,last_name , second_name= \"ali\"):\n",
    "    print(f\"My name is {first_name} {second_name} {last_name}.\")"
   ]
  },
  {
   "cell_type": "code",
   "execution_count": 16,
   "metadata": {},
   "outputs": [
    {
     "name": "stdout",
     "output_type": "stream",
     "text": [
      "My name is ece köseoglu cesur.\n"
     ]
    }
   ],
   "source": [
    "your_name2(\"ece\",\"cesur\",\"köseoglu\")"
   ]
  },
  {
   "cell_type": "code",
   "execution_count": 17,
   "metadata": {},
   "outputs": [
    {
     "name": "stdout",
     "output_type": "stream",
     "text": [
      "My name is ece cesur koseoglu.\n"
     ]
    }
   ],
   "source": [
    "your_name2(\"ece\",\"koseoglu\",\"cesur\")"
   ]
  },
  {
   "cell_type": "code",
   "execution_count": 18,
   "metadata": {},
   "outputs": [],
   "source": [
    "a = \"Adana\"\n",
    "b = \"I\"\n",
    "c = \"\\U00002764\""
   ]
  },
  {
   "cell_type": "code",
   "execution_count": 19,
   "metadata": {},
   "outputs": [
    {
     "data": {
      "text/plain": [
       "'❤'"
      ]
     },
     "execution_count": 19,
     "metadata": {},
     "output_type": "execute_result"
    }
   ],
   "source": [
    "\"\\U00002764\""
   ]
  },
  {
   "cell_type": "code",
   "execution_count": 23,
   "metadata": {},
   "outputs": [],
   "source": [
    "def love(pos1,pos2,pos3):\n",
    "\n",
    "    print(f\"{pos2} {pos3} {pos1}\")"
   ]
  },
  {
   "cell_type": "code",
   "execution_count": 24,
   "metadata": {},
   "outputs": [
    {
     "name": "stdout",
     "output_type": "stream",
     "text": [
      "I ❤ Adana\n"
     ]
    }
   ],
   "source": [
    "love(a,b,c)"
   ]
  },
  {
   "cell_type": "code",
   "execution_count": 25,
   "metadata": {},
   "outputs": [
    {
     "name": "stdout",
     "output_type": "stream",
     "text": [
      "❤ Adana I\n"
     ]
    }
   ],
   "source": [
    "love(b,c,a)"
   ]
  },
  {
   "cell_type": "code",
   "execution_count": 26,
   "metadata": {},
   "outputs": [
    {
     "data": {
      "text/plain": [
       "[(0, 't'), (1, 'e'), (2, 'c'), (3, 'h'), (4, 'p'), (5, 'r'), (6, 'o')]"
      ]
     },
     "execution_count": 26,
     "metadata": {},
     "output_type": "execute_result"
    }
   ],
   "source": [
    "list(enumerate(\"techpro\"))"
   ]
  },
  {
   "cell_type": "code",
   "execution_count": 27,
   "metadata": {},
   "outputs": [
    {
     "data": {
      "text/plain": [
       "[(100, 't'),\n",
       " (101, 'e'),\n",
       " (102, 'c'),\n",
       " (103, 'h'),\n",
       " (104, 'p'),\n",
       " (105, 'r'),\n",
       " (106, 'o')]"
      ]
     },
     "execution_count": 27,
     "metadata": {},
     "output_type": "execute_result"
    }
   ],
   "source": [
    "list(enumerate(\"techpro\",100))"
   ]
  },
  {
   "cell_type": "code",
   "execution_count": 28,
   "metadata": {},
   "outputs": [
    {
     "ename": "TypeError",
     "evalue": "'str' object cannot be interpreted as an integer",
     "output_type": "error",
     "traceback": [
      "\u001b[1;31m---------------------------------------------------------------------------\u001b[0m",
      "\u001b[1;31mTypeError\u001b[0m                                 Traceback (most recent call last)",
      "\u001b[1;32mc:\\Users\\Defne\\OneDrive\\Masaüstü\\B223-225\\session_18_16_10_23.ipynb Cell 21\u001b[0m line \u001b[0;36m1\n\u001b[1;32m----> <a href='vscode-notebook-cell:/c%3A/Users/Defne/OneDrive/Masa%C3%BCst%C3%BC/B223-225/session_18_16_10_23.ipynb#X26sZmlsZQ%3D%3D?line=0'>1</a>\u001b[0m \u001b[39mlist\u001b[39m(\u001b[39menumerate\u001b[39;49m(\u001b[39m100\u001b[39;49m,\u001b[39m\"\u001b[39;49m\u001b[39mtechpro\u001b[39;49m\u001b[39m\"\u001b[39;49m))\n",
      "\u001b[1;31mTypeError\u001b[0m: 'str' object cannot be interpreted as an integer"
     ]
    }
   ],
   "source": [
    "list(enumerate(100,\"techpro\"))"
   ]
  },
  {
   "cell_type": "code",
   "execution_count": 29,
   "metadata": {},
   "outputs": [],
   "source": [
    "def tek_sayilar(a,b,c,d,e):\n",
    "\n",
    "    tek_sayilar = []\n",
    "    for i in a,b,c,d,e:\n",
    "\n",
    "        if i % 2 :\n",
    "            tek_sayilar.append(i)\n",
    "    return tek_sayilar        "
   ]
  },
  {
   "cell_type": "code",
   "execution_count": 30,
   "metadata": {},
   "outputs": [
    {
     "data": {
      "text/plain": [
       "[1, 3, 5]"
      ]
     },
     "execution_count": 30,
     "metadata": {},
     "output_type": "execute_result"
    }
   ],
   "source": [
    "tek_sayilar(1,2,3,4,5)"
   ]
  },
  {
   "cell_type": "code",
   "execution_count": 31,
   "metadata": {},
   "outputs": [
    {
     "data": {
      "text/plain": [
       "[25, 9]"
      ]
     },
     "execution_count": 31,
     "metadata": {},
     "output_type": "execute_result"
    }
   ],
   "source": [
    "tek_sayilar(10,25,32,4,9)"
   ]
  },
  {
   "cell_type": "markdown",
   "metadata": {},
   "source": [
    "# Arbitary Number of Arguments(*args, **kwargs)"
   ]
  },
  {
   "cell_type": "code",
   "execution_count": 32,
   "metadata": {},
   "outputs": [],
   "source": [
    "def teksayilar_2 (* sayilar):\n",
    "    \n",
    "    tek_sayilar = []\n",
    "    for i in sayilar:\n",
    "\n",
    "        if i % 2 :\n",
    "            tek_sayilar.append(i)\n",
    "    return tek_sayilar \n"
   ]
  },
  {
   "cell_type": "code",
   "execution_count": 33,
   "metadata": {},
   "outputs": [
    {
     "data": {
      "text/plain": [
       "[5, 63, 41]"
      ]
     },
     "execution_count": 33,
     "metadata": {},
     "output_type": "execute_result"
    }
   ],
   "source": [
    "teksayilar_2(5,12,63,52,41,12)"
   ]
  },
  {
   "cell_type": "code",
   "execution_count": 34,
   "metadata": {},
   "outputs": [
    {
     "data": {
      "text/plain": [
       "[]"
      ]
     },
     "execution_count": 34,
     "metadata": {},
     "output_type": "execute_result"
    }
   ],
   "source": [
    "teksayilar_2()"
   ]
  },
  {
   "cell_type": "code",
   "execution_count": 36,
   "metadata": {},
   "outputs": [
    {
     "name": "stdout",
     "output_type": "stream",
     "text": [
      "Help on built-in function print in module builtins:\n",
      "\n",
      "print(*args, sep=' ', end='\\n', file=None, flush=False)\n",
      "    Prints the values to a stream, or to sys.stdout by default.\n",
      "    \n",
      "    sep\n",
      "      string inserted between values, default a space.\n",
      "    end\n",
      "      string appended after the last value, default a newline.\n",
      "    file\n",
      "      a file-like object (stream); defaults to the current sys.stdout.\n",
      "    flush\n",
      "      whether to forcibly flush the stream.\n",
      "\n"
     ]
    }
   ],
   "source": [
    "help(print)"
   ]
  },
  {
   "cell_type": "code",
   "execution_count": 39,
   "metadata": {},
   "outputs": [],
   "source": [
    "def tersten_yazdirma(*kelimeler):\n",
    "    liste = []\n",
    "    for i in kelimeler:\n",
    "\n",
    "        liste.append(i[::-1])\n",
    "\n",
    "    return liste\n",
    "\n",
    "    "
   ]
  },
  {
   "cell_type": "code",
   "execution_count": 40,
   "metadata": {},
   "outputs": [
    {
     "data": {
      "text/plain": [
       "['enfed', 'lülye', 'reca', 'navdir', 'icni']"
      ]
     },
     "execution_count": 40,
     "metadata": {},
     "output_type": "execute_result"
    }
   ],
   "source": [
    "tersten_yazdirma(\"defne\",\"eylül\",\"acer\",\"ridvan\",\"inci\")"
   ]
  },
  {
   "cell_type": "code",
   "execution_count": 41,
   "metadata": {},
   "outputs": [
    {
     "data": {
      "text/plain": [
       "[['inci', 'ridvan', 'acer', 'eylül', 'defne']]"
      ]
     },
     "execution_count": 41,
     "metadata": {},
     "output_type": "execute_result"
    }
   ],
   "source": [
    "tersten_yazdirma([\"defne\",\"eylül\",\"acer\",\"ridvan\",\"inci\"])"
   ]
  },
  {
   "cell_type": "code",
   "execution_count": 42,
   "metadata": {},
   "outputs": [
    {
     "ename": "TypeError",
     "evalue": "unhashable type: 'slice'",
     "output_type": "error",
     "traceback": [
      "\u001b[1;31m---------------------------------------------------------------------------\u001b[0m",
      "\u001b[1;31mTypeError\u001b[0m                                 Traceback (most recent call last)",
      "\u001b[1;32mc:\\Users\\Defne\\OneDrive\\Masaüstü\\B223-225\\session_18_16_10_23.ipynb Cell 33\u001b[0m line \u001b[0;36m1\n\u001b[1;32m----> <a href='vscode-notebook-cell:/c%3A/Users/Defne/OneDrive/Masa%C3%BCst%C3%BC/B223-225/session_18_16_10_23.ipynb#X44sZmlsZQ%3D%3D?line=0'>1</a>\u001b[0m tersten_yazdirma({\u001b[39m\"\u001b[39;49m\u001b[39mkey1\u001b[39;49m\u001b[39m\"\u001b[39;49m:\u001b[39m3\u001b[39;49m,\u001b[39m\"\u001b[39;49m\u001b[39mkey2\u001b[39;49m\u001b[39m\"\u001b[39;49m:\u001b[39m6\u001b[39;49m})\n",
      "\u001b[1;32mc:\\Users\\Defne\\OneDrive\\Masaüstü\\B223-225\\session_18_16_10_23.ipynb Cell 33\u001b[0m line \u001b[0;36m5\n\u001b[0;32m      <a href='vscode-notebook-cell:/c%3A/Users/Defne/OneDrive/Masa%C3%BCst%C3%BC/B223-225/session_18_16_10_23.ipynb#X44sZmlsZQ%3D%3D?line=1'>2</a>\u001b[0m liste \u001b[39m=\u001b[39m []\n\u001b[0;32m      <a href='vscode-notebook-cell:/c%3A/Users/Defne/OneDrive/Masa%C3%BCst%C3%BC/B223-225/session_18_16_10_23.ipynb#X44sZmlsZQ%3D%3D?line=2'>3</a>\u001b[0m \u001b[39mfor\u001b[39;00m i \u001b[39min\u001b[39;00m kelimeler:\n\u001b[1;32m----> <a href='vscode-notebook-cell:/c%3A/Users/Defne/OneDrive/Masa%C3%BCst%C3%BC/B223-225/session_18_16_10_23.ipynb#X44sZmlsZQ%3D%3D?line=4'>5</a>\u001b[0m     liste\u001b[39m.\u001b[39mappend(i[::\u001b[39m-\u001b[39;49m\u001b[39m1\u001b[39;49m])\n\u001b[0;32m      <a href='vscode-notebook-cell:/c%3A/Users/Defne/OneDrive/Masa%C3%BCst%C3%BC/B223-225/session_18_16_10_23.ipynb#X44sZmlsZQ%3D%3D?line=6'>7</a>\u001b[0m \u001b[39mreturn\u001b[39;00m liste\n",
      "\u001b[1;31mTypeError\u001b[0m: unhashable type: 'slice'"
     ]
    }
   ],
   "source": [
    "tersten_yazdirma({\"key1\":3,\"key2\":6})"
   ]
  },
  {
   "cell_type": "code",
   "execution_count": 43,
   "metadata": {},
   "outputs": [],
   "source": [
    "def tek_cift_ayirici(*sayilar):\n",
    "\n",
    "    sayilar_2 =[]\n",
    "    for i in sayilar:\n",
    "        if i % 2 :\n",
    "            sayilar_2.append(i ** 2)\n",
    "        else:\n",
    "            sayilar_2.append(i)\n",
    "    return sayilar_2\n"
   ]
  },
  {
   "cell_type": "code",
   "execution_count": 44,
   "metadata": {},
   "outputs": [
    {
     "data": {
      "text/plain": [
       "[1, 25, 6, 8, 12, 1849, 32]"
      ]
     },
     "execution_count": 44,
     "metadata": {},
     "output_type": "execute_result"
    }
   ],
   "source": [
    "tek_cift_ayirici(1,5,6,8,12,43,32)"
   ]
  },
  {
   "cell_type": "code",
   "execution_count": 45,
   "metadata": {},
   "outputs": [],
   "source": [
    "def tek_cift_ayirici(*sayilar):\n",
    "    return [i if i % 2 == 0 else i ** 2 for i in sayilar]"
   ]
  },
  {
   "cell_type": "code",
   "execution_count": 46,
   "metadata": {},
   "outputs": [
    {
     "data": {
      "text/plain": [
       "[1, 2, 9, 4, 25, 6, 49]"
      ]
     },
     "execution_count": 46,
     "metadata": {},
     "output_type": "execute_result"
    }
   ],
   "source": [
    "tek_cift_ayirici(1,2,3,4,5,6,7)"
   ]
  },
  {
   "cell_type": "markdown",
   "metadata": {},
   "source": [
    "# **kwargs "
   ]
  },
  {
   "cell_type": "code",
   "execution_count": 47,
   "metadata": {},
   "outputs": [
    {
     "data": {
      "text/plain": [
       "{'name': 'defne', 'name2': 'murat', 'name3': 'selin'}"
      ]
     },
     "execution_count": 47,
     "metadata": {},
     "output_type": "execute_result"
    }
   ],
   "source": [
    "dict_1 = {\"name\": \"defne\", \"name2\": \"murat\", \"name3\": \"selin\"}\n",
    "dict_1"
   ]
  },
  {
   "cell_type": "code",
   "execution_count": 48,
   "metadata": {},
   "outputs": [],
   "source": [
    "def kwfunction(** kwargs):\n",
    "    for i, j in kwargs.items():\n",
    "        print(f\"key:{i},value: {j}\")"
   ]
  },
  {
   "cell_type": "code",
   "execution_count": 49,
   "metadata": {},
   "outputs": [
    {
     "name": "stdout",
     "output_type": "stream",
     "text": [
      "key:name4,value: ahmet\n",
      "key:name5,value: nazim\n"
     ]
    }
   ],
   "source": [
    "kwfunction(name4= \"ahmet\",name5 = \"nazim\")"
   ]
  },
  {
   "cell_type": "code",
   "execution_count": 50,
   "metadata": {},
   "outputs": [
    {
     "name": "stdout",
     "output_type": "stream",
     "text": [
      "key:name4,value: ahmet\n",
      "key:name5,value: nazim\n",
      "key:name6,value: defne\n",
      "key:name7,value: ugur\n"
     ]
    }
   ],
   "source": [
    "kwfunction(name4= \"ahmet\",name5 = \"nazim\",name6 = \"defne\",name7 = \"ugur\")"
   ]
  },
  {
   "cell_type": "code",
   "execution_count": 51,
   "metadata": {},
   "outputs": [
    {
     "ename": "TypeError",
     "evalue": "kwfunction() takes 0 positional arguments but 1 was given",
     "output_type": "error",
     "traceback": [
      "\u001b[1;31m---------------------------------------------------------------------------\u001b[0m",
      "\u001b[1;31mTypeError\u001b[0m                                 Traceback (most recent call last)",
      "\u001b[1;32mc:\\Users\\Defne\\OneDrive\\Masaüstü\\B223-225\\session_18_16_10_23.ipynb Cell 43\u001b[0m line \u001b[0;36m1\n\u001b[1;32m----> <a href='vscode-notebook-cell:/c%3A/Users/Defne/OneDrive/Masa%C3%BCst%C3%BC/B223-225/session_18_16_10_23.ipynb#X60sZmlsZQ%3D%3D?line=0'>1</a>\u001b[0m kwfunction(dict_1)\n",
      "\u001b[1;31mTypeError\u001b[0m: kwfunction() takes 0 positional arguments but 1 was given"
     ]
    }
   ],
   "source": [
    "kwfunction(dict_1)"
   ]
  },
  {
   "cell_type": "code",
   "execution_count": 52,
   "metadata": {},
   "outputs": [
    {
     "name": "stdout",
     "output_type": "stream",
     "text": [
      "key:name,value: defne\n",
      "key:name2,value: murat\n",
      "key:name3,value: selin\n"
     ]
    }
   ],
   "source": [
    "kwfunction(** dict_1)"
   ]
  },
  {
   "cell_type": "code",
   "execution_count": null,
   "metadata": {},
   "outputs": [],
   "source": []
  }
 ],
 "metadata": {
  "kernelspec": {
   "display_name": "Python 3",
   "language": "python",
   "name": "python3"
  },
  "language_info": {
   "codemirror_mode": {
    "name": "ipython",
    "version": 3
   },
   "file_extension": ".py",
   "mimetype": "text/x-python",
   "name": "python",
   "nbconvert_exporter": "python",
   "pygments_lexer": "ipython3",
   "version": "3.11.6"
  }
 },
 "nbformat": 4,
 "nbformat_minor": 2
}
