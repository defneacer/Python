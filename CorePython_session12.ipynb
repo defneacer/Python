{
 "cells": [
  {
   "cell_type": "markdown",
   "metadata": {},
   "source": [
    "# LOOPS"
   ]
  },
  {
   "cell_type": "markdown",
   "metadata": {},
   "source": [
    "### while"
   ]
  },
  {
   "cell_type": "code",
   "execution_count": null,
   "metadata": {},
   "outputs": [],
   "source": [
    "# calistirma sonsuz döngü\n",
    "while 10 > 5:\n",
    "    print(\"Bu döngü sonsuza kadar calisir.\")\n"
   ]
  },
  {
   "cell_type": "code",
   "execution_count": 1,
   "metadata": {},
   "outputs": [
    {
     "name": "stdout",
     "output_type": "stream",
     "text": [
      "Bu döngü kosul saglandikça calisir, sonra durur\n",
      "Bu döngü kosul saglandikça calisir, sonra durur\n",
      "Bu döngü kosul saglandikça calisir, sonra durur\n",
      "Bu döngü kosul saglandikça calisir, sonra durur\n",
      "Bu döngü kosul saglandikça calisir, sonra durur\n"
     ]
    }
   ],
   "source": [
    "x = 5\n",
    "\n",
    "while 10 > x :\n",
    "    print(\"Bu döngü kosul saglandikça calisir, sonra durur\")\n",
    "    x += 1\n"
   ]
  },
  {
   "cell_type": "code",
   "execution_count": 5,
   "metadata": {},
   "outputs": [
    {
     "name": "stdout",
     "output_type": "stream",
     "text": [
      "1\n",
      "2\n",
      "3\n",
      "4\n",
      "5\n",
      "6\n",
      "7\n",
      "8\n",
      "9\n"
     ]
    }
   ],
   "source": [
    "x = 1\n",
    "\n",
    "while 10 > x:\n",
    "    print(x)\n",
    "    x += 1"
   ]
  },
  {
   "cell_type": "code",
   "execution_count": 6,
   "metadata": {},
   "outputs": [
    {
     "name": "stdout",
     "output_type": "stream",
     "text": [
      "1\n",
      "2\n",
      "3\n",
      "4\n",
      "5\n",
      "6\n",
      "7\n",
      "8\n",
      "9\n"
     ]
    }
   ],
   "source": [
    "x = 1\n",
    "\n",
    "while 10 > x:\n",
    "    print(x)\n",
    "    x += 1"
   ]
  },
  {
   "cell_type": "code",
   "execution_count": 7,
   "metadata": {},
   "outputs": [
    {
     "name": "stdout",
     "output_type": "stream",
     "text": [
      "2\n",
      "3\n",
      "4\n",
      "5\n",
      "6\n",
      "7\n",
      "8\n",
      "9\n",
      "10\n"
     ]
    }
   ],
   "source": [
    "x = 1\n",
    "\n",
    "while 10 > x:\n",
    "    x += 1\n",
    "    print(x)\n",
    "    "
   ]
  },
  {
   "cell_type": "code",
   "execution_count": null,
   "metadata": {},
   "outputs": [],
   "source": [
    "# SONSUZ DÖNGÜ\n",
    "x = 1\n",
    "\n",
    "while 10 > x:\n",
    "    print(x)\n",
    "\n",
    "    \n",
    "x += 1 # islem while indenti icerisinde degil"
   ]
  },
  {
   "cell_type": "code",
   "execution_count": 8,
   "metadata": {},
   "outputs": [],
   "source": [
    "while False:\n",
    "    print(\"sanki calismayacak\")"
   ]
  },
  {
   "cell_type": "code",
   "execution_count": null,
   "metadata": {},
   "outputs": [],
   "source": [
    "while 0:\n",
    "    print(\"bu da calismaz\")"
   ]
  },
  {
   "cell_type": "code",
   "execution_count": null,
   "metadata": {},
   "outputs": [],
   "source": [
    "# SONSUZ DONGU\n",
    "while True:\n",
    "    print(\"sonsuza gider\")"
   ]
  },
  {
   "cell_type": "code",
   "execution_count": null,
   "metadata": {},
   "outputs": [],
   "source": [
    "# SONSUZ DONGU\n",
    "x = 1\n",
    "while True:\n",
    "    print(\"sonsuza gider\")\n",
    "    x +=1"
   ]
  },
  {
   "cell_type": "code",
   "execution_count": 10,
   "metadata": {},
   "outputs": [
    {
     "name": "stdout",
     "output_type": "stream",
     "text": [
      "while dongusu condition False olana kadar calisir.\n"
     ]
    }
   ],
   "source": [
    "y = True\n",
    "\n",
    "while y:\n",
    "    print(\"while dongusu condition False olana kadar calisir.\")\n",
    "\n",
    "    y = False"
   ]
  },
  {
   "cell_type": "code",
   "execution_count": 11,
   "metadata": {},
   "outputs": [
    {
     "name": "stdout",
     "output_type": "stream",
     "text": [
      "1\n",
      "2\n",
      "3\n",
      "4\n",
      "5\n",
      "döngü bitti\n"
     ]
    }
   ],
   "source": [
    "x = 1 \n",
    "\n",
    "while  x < 6:\n",
    "    print(x)\n",
    "    x += 1\n",
    "\n",
    "print(\"döngü bitti\")"
   ]
  },
  {
   "cell_type": "code",
   "execution_count": 12,
   "metadata": {},
   "outputs": [
    {
     "name": "stdout",
     "output_type": "stream",
     "text": [
      "1\n",
      "döngü bitti\n",
      "2\n",
      "döngü bitti\n",
      "3\n",
      "döngü bitti\n",
      "4\n",
      "döngü bitti\n",
      "5\n",
      "döngü bitti\n"
     ]
    }
   ],
   "source": [
    "x = 1 \n",
    "\n",
    "while  x < 6:\n",
    "    print(x)\n",
    "    x += 1\n",
    "\n",
    "    print(\"döngü bitti\")"
   ]
  },
  {
   "cell_type": "code",
   "execution_count": 15,
   "metadata": {},
   "outputs": [
    {
     "name": "stdout",
     "output_type": "stream",
     "text": [
      "1\n",
      "4\n",
      "9\n",
      "16\n",
      "25\n"
     ]
    }
   ],
   "source": [
    "x = 1\n",
    "\n",
    "while x < 6:\n",
    "    print(x**2)\n",
    "    x += 1"
   ]
  },
  {
   "cell_type": "code",
   "execution_count": 16,
   "metadata": {},
   "outputs": [
    {
     "name": "stdout",
     "output_type": "stream",
     "text": [
      "dogru sayiyi giremedin sanirim. \n"
     ]
    }
   ],
   "source": [
    "# Kullanıcıdan sayi isteyin sayi 50 den küçük ise döngü bitsin değilse devam etsin\n",
    "x =int(input(\"Lütfen bir sayi giriniz\"))\n",
    "\n",
    "while x > 50:\n",
    "    x = int(input(\"bir sayi girin\"))\n",
    "    print(\"dogru sayiyi giremedin sanirim. \")\n",
    "\n"
   ]
  },
  {
   "cell_type": "code",
   "execution_count": 4,
   "metadata": {},
   "outputs": [
    {
     "name": "stdout",
     "output_type": "stream",
     "text": [
      "İsleme yönlendiriliyorsunuz.\n"
     ]
    }
   ],
   "source": [
    "# Bankamatik sifre girme islemini kodlarını yazın3 hatalı girme hakkınız var\n",
    "sifre = \"1234\"\n",
    "count = 0\n",
    "y = True \n",
    "while y:\n",
    "    count +=1\n",
    "    kullanici_girisi = input(\"Lütfen sifrenizi girin\")\n",
    "\n",
    "    if sifre == kullanici_girisi:\n",
    "        print(\"İsleme yönlendiriliyorsunuz.\")\n",
    "        y = False\n",
    "        break\n",
    "\n",
    "    if count == 3 :\n",
    "        y = False    \n",
    "    else:\n",
    "        print(\"Yanlis sifre tekrar deneyiniz.\")"
   ]
  },
  {
   "cell_type": "code",
   "execution_count": 3,
   "metadata": {},
   "outputs": [
    {
     "name": "stdout",
     "output_type": "stream",
     "text": [
      "İsleme yönlendiriliyorsunuz.\n"
     ]
    }
   ],
   "source": [
    "# Bankamatik sifre girme islemini kodlarını yazın3 hatalı girme hakkınız var\n",
    "sifre = \"1234\"\n",
    "\n",
    "count = 0\n",
    "y = True \n",
    "while y:\n",
    "    count += 1\n",
    "    kullanici_girisi = input(\"Lütfen sifrenizi girin\")\n",
    "\n",
    "    if sifre == kullanici_girisi:\n",
    "        print(\"İsleme yönlendiriliyorsunuz.\")\n",
    "        y = False\n",
    "    else:\n",
    "        print(\"Yanlis sifre tekrar deneyiniz.\")\n",
    "\n",
    "    if count== 3 :\n",
    "        y = False"
   ]
  },
  {
   "cell_type": "code",
   "execution_count": 6,
   "metadata": {},
   "outputs": [
    {
     "name": "stdout",
     "output_type": "stream",
     "text": [
      "1\n",
      "9\n",
      "36\n",
      "64\n",
      "121\n",
      "225\n"
     ]
    }
   ],
   "source": [
    "# listenin elemanlarının karesini döndüren kodu yazin. while ile çözün\n",
    "\n",
    "sayilar_listesi = [1,3,6,8,11,15]\n",
    "\n",
    "x = 0\n",
    "\n",
    "while x < 6:\n",
    "   print(sayilar_listesi[x] ** 2)\n",
    "   x += 1"
   ]
  },
  {
   "cell_type": "code",
   "execution_count": 11,
   "metadata": {},
   "outputs": [
    {
     "name": "stdout",
     "output_type": "stream",
     "text": [
      "1\n",
      "9\n",
      "36\n",
      "64\n",
      "121\n",
      "225\n"
     ]
    }
   ],
   "source": [
    "# listenin elemanlarının karesini döndüren kodu yazin. while ile çözün\n",
    "\n",
    "sayilar_listesi = [1,3,6,8,11,15]\n",
    "\n",
    "x = 0\n",
    "\n",
    "while x < len(sayilar_listesi):\n",
    "   print(sayilar_listesi[x] ** 2)\n",
    "   x += 1"
   ]
  },
  {
   "cell_type": "code",
   "execution_count": 14,
   "metadata": {},
   "outputs": [
    {
     "name": "stdout",
     "output_type": "stream",
     "text": [
      "[1, 9, 36, 64, 121, 225]\n"
     ]
    }
   ],
   "source": [
    "# listenin elemanlarının karesini liste icinde döndüren kodu yazin. while ile çözün\n",
    "\n",
    "sayilar_listesi = [1,3,6,8,11,15]\n",
    "\n",
    "x = 0\n",
    "result_list = []\n",
    "\n",
    "while x < len(sayilar_listesi):\n",
    "   result_list.append(sayilar_listesi[x] ** 2)\n",
    "   x += 1\n",
    "print(result_list)"
   ]
  }
 ],
 "metadata": {
  "kernelspec": {
   "display_name": "Python 3",
   "language": "python",
   "name": "python3"
  },
  "language_info": {
   "codemirror_mode": {
    "name": "ipython",
    "version": 3
   },
   "file_extension": ".py",
   "mimetype": "text/x-python",
   "name": "python",
   "nbconvert_exporter": "python",
   "pygments_lexer": "ipython3",
   "version": "3.11.6"
  }
 },
 "nbformat": 4,
 "nbformat_minor": 2
}
