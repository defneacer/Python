{
 "cells": [
  {
   "cell_type": "code",
   "execution_count": 8,
   "metadata": {},
   "outputs": [
    {
     "name": "stdout",
     "output_type": "stream",
     "text": [
      "tek sayilar listesi:[1, 15, 5, 89, 45, 71, 45, 95, 61]\n",
      "cift sayilar listesi[2, 36, 62, 52, 30, 56, 48]\n"
     ]
    }
   ],
   "source": [
    "sayilar_listesi = [1,15,2,36,5,89,45,62,52,71,30,56,45,95,61,48]\n",
    "\n",
    "odds = []\n",
    "\n",
    "evens = []\n",
    "\n",
    "x = 0\n",
    "\n",
    "while x < len(sayilar_listesi):\n",
    "    if sayilar_listesi[x] % 2 == 0:\n",
    "        evens.append(sayilar_listesi[x])\n",
    "    else:\n",
    "        odds.append(sayilar_listesi[x])\n",
    "    x += 1\n",
    "print(f\"tek sayilar listesi:{odds}\")\n",
    "print(f\"cift sayilar listesi{evens}\")"
   ]
  },
  {
   "cell_type": "code",
   "execution_count": 9,
   "metadata": {},
   "outputs": [
    {
     "data": {
      "text/plain": [
       "[1, 15, 5, 89, 45, 71, 45, 95, 61]"
      ]
     },
     "execution_count": 9,
     "metadata": {},
     "output_type": "execute_result"
    }
   ],
   "source": [
    "odds"
   ]
  },
  {
   "cell_type": "code",
   "execution_count": 10,
   "metadata": {},
   "outputs": [],
   "source": [
    "odds.sort()"
   ]
  },
  {
   "cell_type": "code",
   "execution_count": 11,
   "metadata": {},
   "outputs": [
    {
     "data": {
      "text/plain": [
       "[1, 5, 15, 45, 45, 61, 71, 89, 95]"
      ]
     },
     "execution_count": 11,
     "metadata": {},
     "output_type": "execute_result"
    }
   ],
   "source": [
    "odds"
   ]
  },
  {
   "cell_type": "code",
   "execution_count": 15,
   "metadata": {},
   "outputs": [
    {
     "name": "stdout",
     "output_type": "stream",
     "text": [
      "Girdiginiz sayi 66. Tahmini azalt\n",
      "Girdiginiz sayi 89. Tahmini azalt\n",
      "Girdiginiz sayi 9. Tahmini arttir\n",
      "Girdiginiz sayi 99. Tahmini azalt\n",
      "Girdiginiz sayi 98. Tahmini azalt\n"
     ]
    }
   ],
   "source": [
    "dogru_sayi = 42\n",
    "\n",
    "while True:\n",
    "    tahmin = int(input(\"Lütfen bir sayi tahmin edin.\"))\n",
    "\n",
    "    if dogru_sayi == tahmin:\n",
    "        print(f\"Girdiginiz sayi {tahmin}.Tebrikler buldunuz.\")\n",
    "        break\n",
    "\n",
    "    elif dogru_sayi < tahmin:\n",
    "        print(f\"Girdiginiz sayi {tahmin}. Tahmini azalt\")\n",
    "\n",
    "    else:\n",
    "        print(f\"Girdiginiz sayi {tahmin}. Tahmini arttir\")"
   ]
  },
  {
   "cell_type": "code",
   "execution_count": 1,
   "metadata": {},
   "outputs": [
    {
     "name": "stdout",
     "output_type": "stream",
     "text": [
      "Girdiginiz sayi 66. Tahmini azalt\n",
      "Girdiginiz sayi 54. Tahmini azalt\n",
      "Girdiginiz sayi 42.3 kerede bildiniz .Tebrikler buldunuz.\n"
     ]
    }
   ],
   "source": [
    "dogru_sayi = 42\n",
    "sayac = 0\n",
    "while True:\n",
    "    sayac += 1\n",
    "    tahmin = int(input(\"Lütfen bir sayi tahmin edin.\"))\n",
    "\n",
    "    if dogru_sayi == tahmin:\n",
    "        print(f\"Girdiginiz sayi {tahmin}. {sayac} kerede bildiniz .Tebrikler buldunuz.\")\n",
    "        break\n",
    "\n",
    "    elif dogru_sayi < tahmin:\n",
    "        print(f\"Girdiginiz sayi {tahmin}. Tahmini azalt\")\n",
    "\n",
    "    else:\n",
    "        print(f\"Girdiginiz sayi {tahmin}. Tahmini arttir\")"
   ]
  },
  {
   "cell_type": "markdown",
   "metadata": {},
   "source": [
    "# random modülü"
   ]
  },
  {
   "cell_type": "code",
   "execution_count": null,
   "metadata": {},
   "outputs": [],
   "source": [
    "import random as rd # as yapisi yeni isim vermeyi saglar"
   ]
  },
  {
   "cell_type": "code",
   "execution_count": 2,
   "metadata": {},
   "outputs": [],
   "source": [
    "import random"
   ]
  },
  {
   "cell_type": "code",
   "execution_count": 9,
   "metadata": {},
   "outputs": [
    {
     "data": {
      "text/plain": [
       "0.5993106433635583"
      ]
     },
     "execution_count": 9,
     "metadata": {},
     "output_type": "execute_result"
    }
   ],
   "source": [
    "random.random()"
   ]
  },
  {
   "cell_type": "code",
   "execution_count": 14,
   "metadata": {},
   "outputs": [
    {
     "data": {
      "text/plain": [
       "0.5486946056438222"
      ]
     },
     "execution_count": 14,
     "metadata": {},
     "output_type": "execute_result"
    }
   ],
   "source": [
    "random.seed(35)\n",
    "random.random()"
   ]
  },
  {
   "cell_type": "code",
   "execution_count": 20,
   "metadata": {},
   "outputs": [
    {
     "data": {
      "text/plain": [
       "56"
      ]
     },
     "execution_count": 20,
     "metadata": {},
     "output_type": "execute_result"
    }
   ],
   "source": [
    "random.randint(1,100)"
   ]
  },
  {
   "cell_type": "code",
   "execution_count": 26,
   "metadata": {},
   "outputs": [
    {
     "name": "stdout",
     "output_type": "stream",
     "text": [
      "Girdiginiz sayi 32. Tahmini arttir\n",
      "Girdiginiz sayi 50. Tahmini arttir\n",
      "Girdiginiz sayi 75. Tahmini arttir\n",
      "Girdiginiz sayi 87. Tahmini arttir\n",
      "Girdiginiz sayi 99. Tahmini azalt\n",
      "Girdiginiz sayi 5. Tahmini arttir\n",
      "Girdiginiz sayi 95. Tahmini arttir\n",
      "7 hakkin bitti. Aklimdaki sayi 97\n"
     ]
    }
   ],
   "source": [
    "import random \n",
    "import time\n",
    "\n",
    "dogru_sayi = random.randint(1,100)\n",
    "sayac = 0\n",
    "time.sleep(2)\n",
    "\n",
    "\n",
    "\n",
    "while True:\n",
    "    sayac += 1\n",
    "    tahmin = int(input(\"Lütfen bir sayi tahmin edin.\"))\n",
    "\n",
    "    time.sleep(2)\n",
    "\n",
    "    if dogru_sayi == tahmin:\n",
    "        print(f\"Girdiginiz sayi {tahmin}. {sayac} kerede bildiniz .Tebrikler buldunuz.\")\n",
    "        break\n",
    "\n",
    "    elif dogru_sayi < tahmin:\n",
    "        print(f\"Girdiginiz sayi {tahmin}. Tahmini azalt\")\n",
    "    else:\n",
    "        print(f\"Girdiginiz sayi {tahmin}. Tahmini arttir\")\n",
    "    \n",
    "    time.sleep(2)\n",
    "    if sayac == 7:\n",
    "        print(f\"7 hakkin bitti. Aklimdaki sayi {dogru_sayi}\")\n",
    "        break\n",
    "    time.sleep(2)\n",
    "    "
   ]
  },
  {
   "cell_type": "markdown",
   "metadata": {},
   "source": [
    "# min(), max()"
   ]
  },
  {
   "cell_type": "code",
   "execution_count": 27,
   "metadata": {},
   "outputs": [],
   "source": [
    "liste_1 = [1,4,5,9,85,23,65,47,32,91]\n"
   ]
  },
  {
   "cell_type": "code",
   "execution_count": 28,
   "metadata": {},
   "outputs": [
    {
     "data": {
      "text/plain": [
       "1"
      ]
     },
     "execution_count": 28,
     "metadata": {},
     "output_type": "execute_result"
    }
   ],
   "source": [
    "min(liste_1)"
   ]
  },
  {
   "cell_type": "code",
   "execution_count": 29,
   "metadata": {},
   "outputs": [
    {
     "data": {
      "text/plain": [
       "91"
      ]
     },
     "execution_count": 29,
     "metadata": {},
     "output_type": "execute_result"
    }
   ],
   "source": [
    "max(liste_1)"
   ]
  },
  {
   "cell_type": "code",
   "execution_count": 31,
   "metadata": {},
   "outputs": [],
   "source": [
    "liste_2 = [1,-4,5,6,-9,85,23,-65,47,32,91]"
   ]
  },
  {
   "cell_type": "code",
   "execution_count": 32,
   "metadata": {},
   "outputs": [
    {
     "data": {
      "text/plain": [
       "-65"
      ]
     },
     "execution_count": 32,
     "metadata": {},
     "output_type": "execute_result"
    }
   ],
   "source": [
    "min(liste_2)"
   ]
  },
  {
   "cell_type": "code",
   "execution_count": 35,
   "metadata": {},
   "outputs": [
    {
     "data": {
      "text/plain": [
       "'defne'"
      ]
     },
     "execution_count": 35,
     "metadata": {},
     "output_type": "execute_result"
    }
   ],
   "source": [
    "min([\"defne\",\"eylul\"])"
   ]
  },
  {
   "cell_type": "markdown",
   "metadata": {},
   "source": [
    "liste_1 = [1,4,5,6,9,85,23,65,47,32,91] listenin en kücük elemanını bulun. ( min fonk ve sort methodu kullanmadan)"
   ]
  },
  {
   "cell_type": "code",
   "execution_count": 40,
   "metadata": {},
   "outputs": [
    {
     "name": "stdout",
     "output_type": "stream",
     "text": [
      "1\n"
     ]
    }
   ],
   "source": [
    "liste_1 =[4,5,6,9,85,23,1,65,47,32,91]\n",
    "\n",
    "x = 0\n",
    "min_sayi = liste_1[0]\n",
    "\n",
    "while x < len(liste_1):\n",
    "\n",
    "    if min_sayi > liste_1[x]:\n",
    "        min_sayi = liste_1[x]\n",
    "  \n",
    "    x += 1\n",
    "print(min_sayi)"
   ]
  }
 ],
 "metadata": {
  "kernelspec": {
   "display_name": "Python 3",
   "language": "python",
   "name": "python3"
  },
  "language_info": {
   "codemirror_mode": {
    "name": "ipython",
    "version": 3
   },
   "file_extension": ".py",
   "mimetype": "text/x-python",
   "name": "python",
   "nbconvert_exporter": "python",
   "pygments_lexer": "ipython3",
   "version": "3.11.6"
  }
 },
 "nbformat": 4,
 "nbformat_minor": 2
}
