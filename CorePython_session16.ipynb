{
 "cells": [
  {
   "cell_type": "markdown",
   "metadata": {},
   "source": [
    "# Functions"
   ]
  },
  {
   "cell_type": "markdown",
   "metadata": {},
   "source": [
    "def fonk_ismi(parametre/parametreler):\n",
    "    islem_satiri/satirlari\n"
   ]
  },
  {
   "cell_type": "code",
   "execution_count": 1,
   "metadata": {},
   "outputs": [],
   "source": [
    "def kareler_toplami(x,y):\n",
    "    print( x ** 2 + y ** 2)"
   ]
  },
  {
   "cell_type": "code",
   "execution_count": 2,
   "metadata": {},
   "outputs": [
    {
     "data": {
      "text/plain": [
       "<function __main__.kareler_toplami(x, y)>"
      ]
     },
     "execution_count": 2,
     "metadata": {},
     "output_type": "execute_result"
    }
   ],
   "source": [
    "kareler_toplami"
   ]
  },
  {
   "cell_type": "code",
   "execution_count": 3,
   "metadata": {},
   "outputs": [
    {
     "data": {
      "text/plain": [
       "<function print(*args, sep=' ', end='\\n', file=None, flush=False)>"
      ]
     },
     "execution_count": 3,
     "metadata": {},
     "output_type": "execute_result"
    }
   ],
   "source": [
    "print"
   ]
  },
  {
   "cell_type": "code",
   "execution_count": 6,
   "metadata": {},
   "outputs": [
    {
     "ename": "TypeError",
     "evalue": "kareler_toplami() missing 2 required positional arguments: 'x' and 'y'",
     "output_type": "error",
     "traceback": [
      "\u001b[1;31m---------------------------------------------------------------------------\u001b[0m",
      "\u001b[1;31mTypeError\u001b[0m                                 Traceback (most recent call last)",
      "\u001b[1;32mc:\\Users\\Defne\\OneDrive\\Masaüstü\\B223-225\\session_17_14_10_23.ipynb Cell 6\u001b[0m line \u001b[0;36m1\n\u001b[1;32m----> <a href='vscode-notebook-cell:/c%3A/Users/Defne/OneDrive/Masa%C3%BCst%C3%BC/B223-225/session_17_14_10_23.ipynb#X10sZmlsZQ%3D%3D?line=0'>1</a>\u001b[0m kareler_toplami()\n",
      "\u001b[1;31mTypeError\u001b[0m: kareler_toplami() missing 2 required positional arguments: 'x' and 'y'"
     ]
    }
   ],
   "source": [
    "kareler_toplami()"
   ]
  },
  {
   "cell_type": "code",
   "execution_count": 7,
   "metadata": {},
   "outputs": [
    {
     "name": "stdout",
     "output_type": "stream",
     "text": [
      "45\n"
     ]
    }
   ],
   "source": [
    "kareler_toplami(3,6)"
   ]
  },
  {
   "cell_type": "code",
   "execution_count": 8,
   "metadata": {},
   "outputs": [],
   "source": [
    "def kareler_toplami_2(x,y):\n",
    "    \"\"\" Bu fonksiyon iki sayinin karelerini toplar. \"\"\"\n",
    "    print(x ** 2 + y ** 2)\n"
   ]
  },
  {
   "cell_type": "code",
   "execution_count": null,
   "metadata": {},
   "outputs": [],
   "source": [
    "kareler_toplami_2()"
   ]
  },
  {
   "cell_type": "code",
   "execution_count": 10,
   "metadata": {},
   "outputs": [
    {
     "name": "stdout",
     "output_type": "stream",
     "text": [
      "25\n"
     ]
    }
   ],
   "source": [
    "kareler_toplami_2(3,4)"
   ]
  },
  {
   "cell_type": "code",
   "execution_count": 12,
   "metadata": {},
   "outputs": [],
   "source": [
    "# Açıklama işe yaramadı\n",
    "def kareler_toplami_2(x,y):\n",
    "    \n",
    "    print(x ** 2 + y ** 2)\n",
    "\n",
    "    \"\"\" Bu fonksiyon iki sayinin karelerini toplar. \"\"\""
   ]
  },
  {
   "cell_type": "code",
   "execution_count": null,
   "metadata": {},
   "outputs": [],
   "source": [
    "kareler_toplami_2()"
   ]
  },
  {
   "cell_type": "code",
   "execution_count": 15,
   "metadata": {},
   "outputs": [],
   "source": [
    "def multiply(a,b):\n",
    "    \"\"\" Bu fonk iki sayinin carpimini verir\"\"\"\n",
    "    print( a * b)"
   ]
  },
  {
   "cell_type": "code",
   "execution_count": 16,
   "metadata": {},
   "outputs": [
    {
     "name": "stdout",
     "output_type": "stream",
     "text": [
      "20\n"
     ]
    }
   ],
   "source": [
    "multiply(4,5)"
   ]
  },
  {
   "cell_type": "code",
   "execution_count": 17,
   "metadata": {},
   "outputs": [
    {
     "name": "stdout",
     "output_type": "stream",
     "text": [
      "12\n"
     ]
    }
   ],
   "source": [
    "degisken_1 = multiply(3,4)"
   ]
  },
  {
   "cell_type": "code",
   "execution_count": 19,
   "metadata": {},
   "outputs": [
    {
     "name": "stdout",
     "output_type": "stream",
     "text": [
      "None\n"
     ]
    }
   ],
   "source": [
    "print(degisken_1)"
   ]
  },
  {
   "cell_type": "code",
   "execution_count": 20,
   "metadata": {},
   "outputs": [],
   "source": [
    "def multiply(a,b):\n",
    "    \"\"\" Bu fonk iki sayinin carpimini verir\"\"\"\n",
    "    return a * b"
   ]
  },
  {
   "cell_type": "code",
   "execution_count": 21,
   "metadata": {},
   "outputs": [],
   "source": [
    "degisken_2 = multiply(3,4)"
   ]
  },
  {
   "cell_type": "code",
   "execution_count": 22,
   "metadata": {},
   "outputs": [
    {
     "name": "stdout",
     "output_type": "stream",
     "text": [
      "12\n"
     ]
    }
   ],
   "source": [
    "print(degisken_2)"
   ]
  },
  {
   "cell_type": "code",
   "execution_count": 12,
   "metadata": {},
   "outputs": [],
   "source": [
    "def grup_yorum():\n",
    "    print(\"Bu kente yanlızlık çöktüğü zaman. Uykusunda bir kuş ölür ecelsiz\")"
   ]
  },
  {
   "cell_type": "code",
   "execution_count": 14,
   "metadata": {},
   "outputs": [
    {
     "name": "stdout",
     "output_type": "stream",
     "text": [
      "Bu kente yanlızlık çöktüğü zaman. Uykusunda bir kuş ölür ecelsiz\n"
     ]
    }
   ],
   "source": [
    "grup_yorum()"
   ]
  },
  {
   "cell_type": "code",
   "execution_count": 15,
   "metadata": {},
   "outputs": [],
   "source": [
    "def ari():\n",
    "    return \"Omrumuz yine geciyor\""
   ]
  },
  {
   "cell_type": "code",
   "execution_count": 16,
   "metadata": {},
   "outputs": [
    {
     "data": {
      "text/plain": [
       "'Omrumuz yine geciyor'"
      ]
     },
     "execution_count": 16,
     "metadata": {},
     "output_type": "execute_result"
    }
   ],
   "source": [
    "ari()"
   ]
  },
  {
   "cell_type": "code",
   "execution_count": 27,
   "metadata": {},
   "outputs": [],
   "source": [
    "def hesap_makinesi(sayi1,opr,sayi2):\n",
    "    if opr == \"+\":\n",
    "        return sayi1 + sayi2\n",
    "    elif opr == \"-\":\n",
    "        return sayi1 - sayi2\n",
    "    elif opr == \"x\":\n",
    "        return sayi1 * sayi2\n",
    "    elif opr == \"/\":\n",
    "        return sayi1 / sayi2\n",
    "    else:\n",
    "        return \"hatali operatör girişi yaptiniz.\""
   ]
  },
  {
   "cell_type": "code",
   "execution_count": 28,
   "metadata": {},
   "outputs": [
    {
     "data": {
      "text/plain": [
       "10"
      ]
     },
     "execution_count": 28,
     "metadata": {},
     "output_type": "execute_result"
    }
   ],
   "source": [
    "hesap_makinesi(3,\"+\",7)"
   ]
  },
  {
   "cell_type": "code",
   "execution_count": 29,
   "metadata": {},
   "outputs": [
    {
     "data": {
      "text/plain": [
       "'techproeducation'"
      ]
     },
     "execution_count": 29,
     "metadata": {},
     "output_type": "execute_result"
    }
   ],
   "source": [
    "hesap_makinesi(\"techpro\",\"+\",\"education\")"
   ]
  },
  {
   "cell_type": "code",
   "execution_count": 30,
   "metadata": {},
   "outputs": [
    {
     "data": {
      "text/plain": [
       "7"
      ]
     },
     "execution_count": 30,
     "metadata": {},
     "output_type": "execute_result"
    }
   ],
   "source": [
    "len (\"Techpro\")"
   ]
  },
  {
   "cell_type": "code",
   "execution_count": 31,
   "metadata": {},
   "outputs": [],
   "source": [
    "def my_len(x):\n",
    "    \"\"\"Bu fonksiyon içine girilen iterable degerin uzunlugunu verir\"\"\"\n",
    "\n",
    "    counter = 0\n",
    "    for i in x:\n",
    "        counter += 1\n",
    "    return counter\n",
    "\n"
   ]
  },
  {
   "cell_type": "code",
   "execution_count": 32,
   "metadata": {},
   "outputs": [
    {
     "data": {
      "text/plain": [
       "7"
      ]
     },
     "execution_count": 32,
     "metadata": {},
     "output_type": "execute_result"
    }
   ],
   "source": [
    "my_len(\"Techpro\")"
   ]
  },
  {
   "cell_type": "code",
   "execution_count": 33,
   "metadata": {},
   "outputs": [
    {
     "ename": "TypeError",
     "evalue": "object of type 'int' has no len()",
     "output_type": "error",
     "traceback": [
      "\u001b[1;31m---------------------------------------------------------------------------\u001b[0m",
      "\u001b[1;31mTypeError\u001b[0m                                 Traceback (most recent call last)",
      "\u001b[1;32mc:\\Users\\Defne\\OneDrive\\Masaüstü\\B223-225\\session_17_14_10_23.ipynb Cell 30\u001b[0m line \u001b[0;36m1\n\u001b[1;32m----> <a href='vscode-notebook-cell:/c%3A/Users/Defne/OneDrive/Masa%C3%BCst%C3%BC/B223-225/session_17_14_10_23.ipynb#X44sZmlsZQ%3D%3D?line=0'>1</a>\u001b[0m \u001b[39mlen\u001b[39;49m(\u001b[39m123\u001b[39;49m)\n",
      "\u001b[1;31mTypeError\u001b[0m: object of type 'int' has no len()"
     ]
    }
   ],
   "source": [
    "len(123)"
   ]
  },
  {
   "cell_type": "code",
   "execution_count": 34,
   "metadata": {},
   "outputs": [
    {
     "ename": "TypeError",
     "evalue": "'int' object is not iterable",
     "output_type": "error",
     "traceback": [
      "\u001b[1;31m---------------------------------------------------------------------------\u001b[0m",
      "\u001b[1;31mTypeError\u001b[0m                                 Traceback (most recent call last)",
      "\u001b[1;32mc:\\Users\\Defne\\OneDrive\\Masaüstü\\B223-225\\session_17_14_10_23.ipynb Cell 31\u001b[0m line \u001b[0;36m1\n\u001b[1;32m----> <a href='vscode-notebook-cell:/c%3A/Users/Defne/OneDrive/Masa%C3%BCst%C3%BC/B223-225/session_17_14_10_23.ipynb#X45sZmlsZQ%3D%3D?line=0'>1</a>\u001b[0m my_len(\u001b[39m123\u001b[39;49m)\n",
      "\u001b[1;32mc:\\Users\\Defne\\OneDrive\\Masaüstü\\B223-225\\session_17_14_10_23.ipynb Cell 31\u001b[0m line \u001b[0;36m5\n\u001b[0;32m      <a href='vscode-notebook-cell:/c%3A/Users/Defne/OneDrive/Masa%C3%BCst%C3%BC/B223-225/session_17_14_10_23.ipynb#X45sZmlsZQ%3D%3D?line=1'>2</a>\u001b[0m \u001b[39m\u001b[39m\u001b[39m\"\"\"Bu fonksiyon içine girilen iterable degerin uzunlugunu verir\"\"\"\u001b[39;00m\n\u001b[0;32m      <a href='vscode-notebook-cell:/c%3A/Users/Defne/OneDrive/Masa%C3%BCst%C3%BC/B223-225/session_17_14_10_23.ipynb#X45sZmlsZQ%3D%3D?line=3'>4</a>\u001b[0m counter \u001b[39m=\u001b[39m \u001b[39m0\u001b[39m\n\u001b[1;32m----> <a href='vscode-notebook-cell:/c%3A/Users/Defne/OneDrive/Masa%C3%BCst%C3%BC/B223-225/session_17_14_10_23.ipynb#X45sZmlsZQ%3D%3D?line=4'>5</a>\u001b[0m \u001b[39mfor\u001b[39;00m i \u001b[39min\u001b[39;00m x:\n\u001b[0;32m      <a href='vscode-notebook-cell:/c%3A/Users/Defne/OneDrive/Masa%C3%BCst%C3%BC/B223-225/session_17_14_10_23.ipynb#X45sZmlsZQ%3D%3D?line=5'>6</a>\u001b[0m     counter \u001b[39m+\u001b[39m\u001b[39m=\u001b[39m \u001b[39m1\u001b[39m\n\u001b[0;32m      <a href='vscode-notebook-cell:/c%3A/Users/Defne/OneDrive/Masa%C3%BCst%C3%BC/B223-225/session_17_14_10_23.ipynb#X45sZmlsZQ%3D%3D?line=6'>7</a>\u001b[0m \u001b[39mreturn\u001b[39;00m counter\n",
      "\u001b[1;31mTypeError\u001b[0m: 'int' object is not iterable"
     ]
    }
   ],
   "source": [
    "my_len(123)"
   ]
  },
  {
   "cell_type": "code",
   "execution_count": 37,
   "metadata": {},
   "outputs": [],
   "source": [
    "def int_len(y):\n",
    "    \"\"\"Bu fonksiyon içine girilen int degerin uzunlugunu verir\"\"\"\n",
    "\n",
    "    counter = 0\n",
    "    for i in str(y):\n",
    "        counter += 1\n",
    "    return counter"
   ]
  },
  {
   "cell_type": "code",
   "execution_count": 38,
   "metadata": {},
   "outputs": [
    {
     "data": {
      "text/plain": [
       "4"
      ]
     },
     "execution_count": 38,
     "metadata": {},
     "output_type": "execute_result"
    }
   ],
   "source": [
    "int_len(1536)"
   ]
  },
  {
   "cell_type": "code",
   "execution_count": 44,
   "metadata": {},
   "outputs": [],
   "source": [
    "string_1 = \"\"\"aaaaaaaaaa\n",
    "bbbbbbbbbbbb\n",
    "cccccccccccccccccc\n",
    "dddddddddd\n",
    "eeeee\n",
    "fffff\n",
    "\"\"\""
   ]
  },
  {
   "cell_type": "code",
   "execution_count": 45,
   "metadata": {},
   "outputs": [
    {
     "data": {
      "text/plain": [
       "6"
      ]
     },
     "execution_count": 45,
     "metadata": {},
     "output_type": "execute_result"
    }
   ],
   "source": [
    "string_1.count(\"\\n\")"
   ]
  },
  {
   "cell_type": "code",
   "execution_count": 48,
   "metadata": {},
   "outputs": [
    {
     "data": {
      "text/plain": [
       "'Return the number of items in a container.'"
      ]
     },
     "execution_count": 48,
     "metadata": {},
     "output_type": "execute_result"
    }
   ],
   "source": [
    "len.__doc__"
   ]
  },
  {
   "cell_type": "code",
   "execution_count": 49,
   "metadata": {},
   "outputs": [
    {
     "data": {
      "text/plain": [
       "'Bu fonksiyon içine girilen int degerin uzunlugunu verir'"
      ]
     },
     "execution_count": 49,
     "metadata": {},
     "output_type": "execute_result"
    }
   ],
   "source": [
    "int_len.__doc__"
   ]
  },
  {
   "cell_type": "code",
   "execution_count": 50,
   "metadata": {},
   "outputs": [
    {
     "name": "stdout",
     "output_type": "stream",
     "text": [
      "Help on function int_len in module __main__:\n",
      "\n",
      "int_len(y)\n",
      "    Bu fonksiyon içine girilen int degerin uzunlugunu verir\n",
      "\n"
     ]
    }
   ],
   "source": [
    "help(int_len)"
   ]
  },
  {
   "cell_type": "code",
   "execution_count": 51,
   "metadata": {},
   "outputs": [
    {
     "name": "stdout",
     "output_type": "stream",
     "text": [
      "tek sayılar: [1, 15, 5, 89, 45, 71, 45, 95, 61]\n",
      "çift sayılar: [2, 36, 62, 52, 30, 56, 48]\n"
     ]
    }
   ],
   "source": [
    "sayılar_listesi = [1,15,2,36,5,89,45,62,52,71,30,56,45,95,61,48]\n",
    "\n",
    "odds = []\n",
    "evens = []\n",
    "\n",
    "for i in sayılar_listesi:\n",
    "\n",
    "    if i % 2:\n",
    "        odds.append(i)\n",
    "    else:\n",
    "        evens.append(i)\n",
    "\n",
    "print(f\"tek sayılar: {odds}\")\n",
    "print(f\"çift sayılar: {evens}\")"
   ]
  },
  {
   "cell_type": "code",
   "execution_count": 57,
   "metadata": {},
   "outputs": [],
   "source": [
    "def tek_cift_ayirici(liste,istek):\n",
    "    odds = []\n",
    "    evens = []\n",
    "\n",
    "    for i in liste:\n",
    "\n",
    "        if i % 2:\n",
    "            odds.append(i)\n",
    "        else:\n",
    "            evens.append(i)\n",
    "\n",
    "\n",
    "    odds.sort()\n",
    "    evens.sort()\n",
    "    \n",
    "    if istek == \"cift\":\n",
    "        return evens\n",
    "    elif istek == \"tek\":\n",
    "        return odds"
   ]
  },
  {
   "cell_type": "code",
   "execution_count": 58,
   "metadata": {},
   "outputs": [
    {
     "data": {
      "text/plain": [
       "[1, 5, 15, 45, 45, 61, 71, 89, 95]"
      ]
     },
     "execution_count": 58,
     "metadata": {},
     "output_type": "execute_result"
    }
   ],
   "source": [
    "tek_cift_ayirici([1,15,2,36,5,89,45,62,52,71,30,56,45,95,61,48],\"tek\")\n"
   ]
  },
  {
   "cell_type": "code",
   "execution_count": 59,
   "metadata": {},
   "outputs": [
    {
     "data": {
      "text/plain": [
       "[2, 30, 36, 48, 52, 56, 62]"
      ]
     },
     "execution_count": 59,
     "metadata": {},
     "output_type": "execute_result"
    }
   ],
   "source": [
    "tek_cift_ayirici([1,15,2,36,5,89,45,62,52,71,30,56,45,95,61,48],\"cift\")"
   ]
  },
  {
   "cell_type": "code",
   "execution_count": 76,
   "metadata": {},
   "outputs": [],
   "source": [
    "def sesli_harf_sayaci(isim):\n",
    "    sesli= \"aeioüıuö\"\n",
    "    counter = 0\n",
    "    \n",
    "    for i in isim.lower():\n",
    "        if i in sesli:\n",
    "            counter +=1 \n",
    "    return counter"
   ]
  },
  {
   "cell_type": "code",
   "execution_count": 68,
   "metadata": {},
   "outputs": [
    {
     "data": {
      "text/plain": [
       "2"
      ]
     },
     "execution_count": 68,
     "metadata": {},
     "output_type": "execute_result"
    }
   ],
   "source": [
    "sesli_harf_sayaci(\"defne\")"
   ]
  },
  {
   "cell_type": "code",
   "execution_count": 69,
   "metadata": {},
   "outputs": [
    {
     "data": {
      "text/plain": [
       "2000"
      ]
     },
     "execution_count": 69,
     "metadata": {},
     "output_type": "execute_result"
    }
   ],
   "source": [
    "sesli_harf_sayaci(\"defne\") * 1000"
   ]
  },
  {
   "cell_type": "code",
   "execution_count": 72,
   "metadata": {},
   "outputs": [],
   "source": [
    "isimler_listesi = [\"inci\",\"ayse\",\"ali\",\"doganay\",\"enejan\"]"
   ]
  },
  {
   "cell_type": "code",
   "execution_count": 73,
   "metadata": {},
   "outputs": [
    {
     "name": "stdout",
     "output_type": "stream",
     "text": [
      "2\n",
      "2\n",
      "2\n",
      "3\n",
      "3\n"
     ]
    }
   ],
   "source": [
    "for i in isimler_listesi:\n",
    "\n",
    "    print(sesli_harf_sayaci(i))"
   ]
  },
  {
   "cell_type": "code",
   "execution_count": 78,
   "metadata": {},
   "outputs": [
    {
     "data": {
      "text/plain": [
       "{'inci': 2, 'ayse': 2, 'ali': 2, 'doganay': 3, 'enejan': 3}"
      ]
     },
     "execution_count": 78,
     "metadata": {},
     "output_type": "execute_result"
    }
   ],
   "source": [
    "result = {}\n",
    "for i in isimler_listesi:\n",
    "    result[i] =sesli_harf_sayaci(i)\n",
    "result"
   ]
  }
 ],
 "metadata": {
  "kernelspec": {
   "display_name": "Python 3",
   "language": "python",
   "name": "python3"
  },
  "language_info": {
   "codemirror_mode": {
    "name": "ipython",
    "version": 3
   },
   "file_extension": ".py",
   "mimetype": "text/x-python",
   "name": "python",
   "nbconvert_exporter": "python",
   "pygments_lexer": "ipython3",
   "version": "3.11.5"
  }
 },
 "nbformat": 4,
 "nbformat_minor": 2
}
